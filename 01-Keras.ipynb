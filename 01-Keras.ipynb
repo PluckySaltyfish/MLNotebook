{
 "cells": [
  {
   "cell_type": "code",
   "execution_count": 5,
   "metadata": {},
   "outputs": [],
   "source": [
    "from keras.models import Sequential\n",
    "from keras.layers.core import Dense,Dropout,Activation\n",
    "from keras.layers import Conv2D, MaxPooling2D, Flatten\n",
    "from keras.optimizers import SGD, Adam\n",
    "from keras.utils import np_utils\n",
    "# 手写数字辨识 \n",
    "# 输入28*28维的图像\n",
    "# 两个Hidden Layer\n",
    "# 输出10个种类"
   ]
  },
  {
   "cell_type": "code",
   "execution_count": 23,
   "metadata": {},
   "outputs": [
    {
     "name": "stdout",
     "output_type": "stream",
     "text": [
      "(10000, 784) (10000, 10) (10000, 784) (10000, 10)\n"
     ]
    }
   ],
   "source": [
    "import os\n",
    "import struct\n",
    "\n",
    "# 手动加载MNIST数据\n",
    "def load_mnist(path, kind='train'):\n",
    "    \"\"\"Load MNIST data from `path`\"\"\"\n",
    "    labels_path = os.path.join(path,\n",
    "                               '%s-labels-idx1-ubyte'\n",
    "                               % kind)\n",
    "    images_path = os.path.join(path,\n",
    "                               '%s-images-idx3-ubyte'\n",
    "                               % kind)\n",
    "    with open(labels_path, 'rb') as lbpath:\n",
    "        magic, n = struct.unpack('>II',\n",
    "                                 lbpath.read(8))\n",
    "        labels = np.fromfile(lbpath,\n",
    "                             dtype=np.uint8)\n",
    "\n",
    "    with open(images_path, 'rb') as imgpath:\n",
    "        magic, num, rows, cols = struct.unpack('>IIII',\n",
    "                                               imgpath.read(16))\n",
    "        images = np.fromfile(imgpath,\n",
    "                             dtype=np.uint8).reshape(len(labels), 784)\n",
    "\n",
    "    return images, labels\n",
    "\n",
    "x_train,y_train = load_mnist('../')\n",
    "x_test,y_test = load_mnist('../','t10k')\n",
    "\n",
    "# 取10000 train\n",
    "number = 10000\n",
    "x_train = x_train[0:number]\n",
    "y_train = y_train[0:number]\n",
    "x_train = x_train.astype('float32')\n",
    "x_test = x_test.astype('float32')\n",
    "# 将x的值转化为0-1之间的值\n",
    "x_train = x_train/255\n",
    "x_test = x_test/255\n",
    "# y变成向量\n",
    "y_train = np_utils.to_categorical(y_train,num_classes = 10)\n",
    "y_test = np_utils.to_categorical(y_test,num_classes = 10)\n",
    "print(x_train.shape,y_train.shape,x_test.shape,y_test.shape)"
   ]
  },
  {
   "cell_type": "code",
   "execution_count": 39,
   "metadata": {},
   "outputs": [],
   "source": [
    "# 1.建立模型\n",
    "model = Sequential()\n",
    "model.add(Dense(input_dim=28*28,units=600,activation='sigmoid'))\n",
    "model.add(Dense(units=600,activation='relu'))\n",
    "model.add(Dropout(0.5))\n",
    "model.add(Dense(units=600,activation='relu'))\n",
    "model.add(Dense(units=10,activation='softmax'))"
   ]
  },
  {
   "cell_type": "code",
   "execution_count": 43,
   "metadata": {},
   "outputs": [],
   "source": [
    "# 2.配置\n",
    "# model.compile(loss='mse',optimizer=SGD(lr=0.1),metrics=['accuracy'])\n",
    "# mean square error并不适合分类问题\n",
    "model.compile(loss='categorical_crossentropy',optimizer='adam',metrics=['accuracy'])"
   ]
  },
  {
   "cell_type": "code",
   "execution_count": 44,
   "metadata": {},
   "outputs": [
    {
     "name": "stdout",
     "output_type": "stream",
     "text": [
      "Epoch 1/20\n",
      "10000/10000 [==============================] - 5s 470us/step - loss: 1.0461 - accuracy: 0.6506\n",
      "Epoch 2/20\n",
      "10000/10000 [==============================] - 4s 375us/step - loss: 0.4135 - accuracy: 0.8732\n",
      "Epoch 3/20\n",
      "10000/10000 [==============================] - 4s 375us/step - loss: 0.3295 - accuracy: 0.8988\n",
      "Epoch 4/20\n",
      "10000/10000 [==============================] - 4s 412us/step - loss: 0.2714 - accuracy: 0.9163\n",
      "Epoch 5/20\n",
      "10000/10000 [==============================] - 4s 413us/step - loss: 0.2458 - accuracy: 0.9263\n",
      "Epoch 6/20\n",
      "10000/10000 [==============================] - 4s 376us/step - loss: 0.2120 - accuracy: 0.9358\n",
      "Epoch 7/20\n",
      "10000/10000 [==============================] - 4s 380us/step - loss: 0.1888 - accuracy: 0.9427\n",
      "Epoch 8/20\n",
      "10000/10000 [==============================] - 4s 377us/step - loss: 0.1686 - accuracy: 0.9475\n",
      "Epoch 9/20\n",
      "10000/10000 [==============================] - 4s 426us/step - loss: 0.1570 - accuracy: 0.9510\n",
      "Epoch 10/20\n",
      "10000/10000 [==============================] - 4s 386us/step - loss: 0.1426 - accuracy: 0.9553\n",
      "Epoch 11/20\n",
      "10000/10000 [==============================] - 4s 381us/step - loss: 0.1202 - accuracy: 0.9615\n",
      "Epoch 12/20\n",
      "10000/10000 [==============================] - 4s 433us/step - loss: 0.1101 - accuracy: 0.9660\n",
      "Epoch 13/20\n",
      "10000/10000 [==============================] - 4s 384us/step - loss: 0.0963 - accuracy: 0.9700\n",
      "Epoch 14/20\n",
      "10000/10000 [==============================] - 4s 380us/step - loss: 0.0837 - accuracy: 0.9733\n",
      "Epoch 15/20\n",
      "10000/10000 [==============================] - 4s 383us/step - loss: 0.0753 - accuracy: 0.9762\n",
      "Epoch 16/20\n",
      "10000/10000 [==============================] - 4s 394us/step - loss: 0.0775 - accuracy: 0.9752\n",
      "Epoch 17/20\n",
      "10000/10000 [==============================] - 4s 398us/step - loss: 0.0628 - accuracy: 0.9786\n",
      "Epoch 18/20\n",
      "10000/10000 [==============================] - 4s 444us/step - loss: 0.0556 - accuracy: 0.9806\n",
      "Epoch 19/20\n",
      "10000/10000 [==============================] - 4s 432us/step - loss: 0.0530 - accuracy: 0.9833\n",
      "Epoch 20/20\n",
      "10000/10000 [==============================] - 4s 390us/step - loss: 0.0429 - accuracy: 0.9850\n"
     ]
    },
    {
     "data": {
      "text/plain": [
       "<keras.callbacks.callbacks.History at 0x65aa59dd0>"
      ]
     },
     "execution_count": 44,
     "metadata": {},
     "output_type": "execute_result"
    }
   ],
   "source": [
    "# 3. 训练\n",
    "model.fit(x_train,y_train,batch_size=100,epochs=20)"
   ]
  },
  {
   "cell_type": "code",
   "execution_count": 45,
   "metadata": {},
   "outputs": [
    {
     "name": "stdout",
     "output_type": "stream",
     "text": [
      "10000/10000 [==============================] - 1s 127us/step\n",
      "Test Acc: 0.9569000005722046\n",
      "10000/10000 [==============================] - 1s 110us/step\n",
      "Train Acc: 0.9954000115394592\n"
     ]
    }
   ],
   "source": [
    "# 4.Evaluation\n",
    "result = model.evaluate(x_test,y_test)\n",
    "print('Test Acc:',result[1])\n",
    "result = model.evaluate(x_train,y_train)\n",
    "print('Train Acc:',result[1])"
   ]
  },
  {
   "cell_type": "code",
   "execution_count": null,
   "metadata": {},
   "outputs": [],
   "source": [
    "# 参数的影响\n",
    "'''\n",
    "batch_size：\n",
    "开大后，在GPU加速的情况下很快；\n",
    "但是过大会使结果坏掉（参数更新慢）\n",
    "太小的话GPU无法加速\n",
    "\n",
    "Hidden Layer层数：\n",
    "变深后，使用sigmoid后loss停止了更新\n",
    "换成relu后 效果变好\n",
    "但是注释掉数据规定化后 loss又停止了更新\n",
    "\n",
    "GD的策略：\n",
    "使用Adam 收敛变快\n",
    "\n",
    "dropout层的设置\n",
    "\n",
    "'''"
   ]
  }
 ],
 "metadata": {
  "kernelspec": {
   "display_name": "Python 3",
   "language": "python",
   "name": "python3"
  },
  "language_info": {
   "codemirror_mode": {
    "name": "ipython",
    "version": 3
   },
   "file_extension": ".py",
   "mimetype": "text/x-python",
   "name": "python",
   "nbconvert_exporter": "python",
   "pygments_lexer": "ipython3",
   "version": "3.7.6"
  }
 },
 "nbformat": 4,
 "nbformat_minor": 2
}
